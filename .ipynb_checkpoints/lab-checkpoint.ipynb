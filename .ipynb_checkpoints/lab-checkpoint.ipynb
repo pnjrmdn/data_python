{
 "cells": [
  {
   "cell_type": "code",
   "execution_count": 12,
   "id": "5bc34128-433f-49f6-b8e5-10e122b3567f",
   "metadata": {},
   "outputs": [
    {
     "name": "stdout",
     "output_type": "stream",
     "text": [
      "          Date Location ISO Code     Location  New Cases  New Deaths\n",
      "0   01/03/2020             ID-JK  DKI Jakarta          3           0\n",
      "1   01/03/2020             ID-JB   Jawa Barat          3           0\n",
      "2   02/03/2020             ID-JK  DKI Jakarta          2           0\n",
      "3   02/03/2020               IDN    Indonesia          2           0\n",
      "4   02/03/2020             ID-JB   Jawa Barat          0           0\n",
      "5   03/03/2020             ID-JK  DKI Jakarta          2           0\n",
      "6   03/03/2020               IDN    Indonesia          0           0\n",
      "7   03/03/2020             ID-JB   Jawa Barat          1           1\n",
      "8   04/03/2020             ID-JK  DKI Jakarta          2           0\n",
      "9   04/03/2020               IDN    Indonesia          0           0\n",
      "10  04/03/2020             ID-JB   Jawa Barat          1           0\n",
      "11  05/03/2020             ID-JK  DKI Jakarta          0           1\n",
      "12  05/03/2020               IDN    Indonesia          0           0\n",
      "13  05/03/2020             ID-JB   Jawa Barat          0           0\n",
      "14  06/03/2020             ID-BT       Banten          1           0\n"
     ]
    }
   ],
   "source": [
    "import pandas as pd\n",
    "\n",
    "# Path file CSV\n",
    "csv_file = '/Users/pnjrmdn/Documents/data_python'\n",
    "\n",
    "# Membaca file CSV\n",
    "dataframe = pd.read_csv('data_covid.csv')\n",
    "\n",
    "# Menampilkan data\n",
    "print(dataframe.head(15).iloc[:, :5])"
   ]
  },
  {
   "cell_type": "code",
   "execution_count": 3,
   "id": "536ac473-d737-48a4-afba-a3b02d08ff52",
   "metadata": {},
   "outputs": [
    {
     "ename": "NameError",
     "evalue": "name 'create_table_query' is not defined",
     "output_type": "error",
     "traceback": [
      "\u001b[0;31m---------------------------------------------------------------------------\u001b[0m",
      "\u001b[0;31mNameError\u001b[0m                                 Traceback (most recent call last)",
      "\u001b[0;32m/var/folders/bm/r_785fjx3yx8q2vmfchr36gm0000gn/T/ipykernel_21225/4041772654.py\u001b[0m in \u001b[0;36m<module>\u001b[0;34m\u001b[0m\n\u001b[1;32m     19\u001b[0m \u001b[0;31m# Membuat tabel (opsional)\u001b[0m\u001b[0;34m\u001b[0m\u001b[0;34m\u001b[0m\u001b[0m\n\u001b[1;32m     20\u001b[0m \u001b[0;34m\u001b[0m\u001b[0m\n\u001b[0;32m---> 21\u001b[0;31m \u001b[0mcursor\u001b[0m\u001b[0;34m.\u001b[0m\u001b[0mexecute\u001b[0m\u001b[0;34m(\u001b[0m\u001b[0mcreate_table_query\u001b[0m\u001b[0;34m)\u001b[0m\u001b[0;34m\u001b[0m\u001b[0;34m\u001b[0m\u001b[0m\n\u001b[0m\u001b[1;32m     22\u001b[0m \u001b[0;34m\u001b[0m\u001b[0m\n\u001b[1;32m     23\u001b[0m \u001b[0;31m# Menyimpan data ke dalam database\u001b[0m\u001b[0;34m\u001b[0m\u001b[0;34m\u001b[0m\u001b[0m\n",
      "\u001b[0;31mNameError\u001b[0m: name 'create_table_query' is not defined"
     ]
    }
   ],
   "source": [
    "import pandas as pd\n",
    "import mysql.connector\n",
    "\n",
    "# Koneksi ke database MySQL\n",
    "db_connection = mysql.connector.connect(\n",
    "    host='localhost',\n",
    "    user='root',\n",
    "    password='root',\n",
    "    database='test',\n",
    "    port=3307\n",
    ")\n",
    "\n",
    "# Membaca file CSV\n",
    "data = pd.read_csv('data_covid.csv')\n",
    "\n",
    "# Membuat kursor database\n",
    "cursor = db_connection.cursor()\n",
    "\n",
    "\n",
    "# Menyimpan data ke dalam database\n",
    "for index, row in data.iterrows():\n",
    "    date = row['Date']\n",
    "    loc_iso = row['Location ISO Code']\n",
    "    location = row['Location']\n",
    "    cases = row['New Cases']\n",
    "    deaths = row['New Deaths']\n",
    "    \n",
    "    # Query INSERT\n",
    "    insert_query = f\"INSERT INTO data_covid (date, loc_iso, location, case, deaths) VALUES ('{date}', {loc_iso}, {location}, {deaths}, {cases})\"\n",
    "    cursor.execute(insert_query)\n",
    "\n",
    "# Commit perubahan dan tutup koneksi\n",
    "db_connection.commit()\n",
    "cursor.close()\n",
    "db_connection.close()\n",
    "\n",
    "print(\"Data berhasil dimuat ke dalam database MySQL.\")\n"
   ]
  },
  {
   "cell_type": "code",
   "execution_count": null,
   "id": "4344fd4f-7e63-4d61-9805-b68676e6a2d6",
   "metadata": {},
   "outputs": [],
   "source": []
  },
  {
   "cell_type": "code",
   "execution_count": null,
   "id": "1de06c7c-40dd-4d3b-8655-8ec527dede5a",
   "metadata": {},
   "outputs": [],
   "source": []
  }
 ],
 "metadata": {
  "kernelspec": {
   "display_name": "Python 3 (ipykernel)",
   "language": "python",
   "name": "python3"
  },
  "language_info": {
   "codemirror_mode": {
    "name": "ipython",
    "version": 3
   },
   "file_extension": ".py",
   "mimetype": "text/x-python",
   "name": "python",
   "nbconvert_exporter": "python",
   "pygments_lexer": "ipython3",
   "version": "3.9.7"
  }
 },
 "nbformat": 4,
 "nbformat_minor": 5
}
